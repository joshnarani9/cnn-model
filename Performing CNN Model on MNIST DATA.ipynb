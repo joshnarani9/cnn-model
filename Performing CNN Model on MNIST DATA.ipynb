{
 "cells": [
  {
   "cell_type": "code",
   "execution_count": 65,
   "metadata": {},
   "outputs": [],
   "source": [
    "import numpy as np \n",
    "import keras\n",
    "from keras.models import Sequential\n",
    "from keras.layers import Dense, Dropout, Flatten\n",
    "from keras.layers import Conv2D, MaxPooling2D\n",
    "from keras.datasets import mnist\n",
    "import matplotlib.pyplot as plt"
   ]
  },
  {
   "cell_type": "code",
   "execution_count": 66,
   "metadata": {},
   "outputs": [],
   "source": [
    "(x_train, y_train), (x_test, y_test) = mnist.load_data()"
   ]
  },
  {
   "cell_type": "code",
   "execution_count": 67,
   "metadata": {},
   "outputs": [
    {
     "data": {
      "text/plain": [
       "((60000, 28, 28), (10000, 28, 28), (60000,), (10000,))"
      ]
     },
     "execution_count": 67,
     "metadata": {},
     "output_type": "execute_result"
    }
   ],
   "source": [
    "x_train.shape, x_test.shape, y_train.shape , y_test.shape"
   ]
  },
  {
   "cell_type": "code",
   "execution_count": 68,
   "metadata": {},
   "outputs": [
    {
     "data": {
      "image/png": "[encoded data removed]",
      "text/plain": [
       "<Figure size 432x288 with 1 Axes>"
      ]
     },
     "metadata": {
      "needs_background": "light"
     },
     "output_type": "display_data"
    },
    {
     "name": "stdout",
     "output_type": "stream",
     "text": [
      "It looks like -  Dress\n"
     ]
    }
   ],
   "source": [
    "i = 1234\n",
    "plt.imshow(x_train[i], cmap=\"gray\")\n",
    "plt.show()\n",
    "print(\"It looks like - \", label_dict.get(y_train[i]))"
   ]
  },
  {
   "cell_type": "code",
   "execution_count": 69,
   "metadata": {},
   "outputs": [
    {
     "data": {
      "text/plain": [
       "(255, 0)"
      ]
     },
     "execution_count": 69,
     "metadata": {},
     "output_type": "execute_result"
    }
   ],
   "source": [
    "# Min Max Scalar Technique for normalization\n",
    "x_train.max(), x_train.min()"
   ]
  },
  {
   "cell_type": "code",
   "execution_count": 70,
   "metadata": {},
   "outputs": [],
   "source": [
    "x_train = x_train / 255.0\n",
    "x_test = x_test / 255.0"
   ]
  },
  {
   "cell_type": "code",
   "execution_count": 71,
   "metadata": {},
   "outputs": [
    {
     "data": {
      "image/png": "[encoded data removed]",
      "text/plain": [
       "<Figure size 432x288 with 1 Axes>"
      ]
     },
     "metadata": {
      "needs_background": "light"
     },
     "output_type": "display_data"
    }
   ],
   "source": [
    "plt.imshow(x_train[1234], cmap=\"gray\")\n",
    "plt.show()"
   ]
  },
  {
   "cell_type": "code",
   "execution_count": 72,
   "metadata": {},
   "outputs": [
    {
     "data": {
      "text/plain": [
       "(28, 28)"
      ]
     },
     "execution_count": 72,
     "metadata": {},
     "output_type": "execute_result"
    }
   ],
   "source": [
    "np.array(x_train[1234]).shape"
   ]
  },
  {
   "cell_type": "code",
   "execution_count": 73,
   "metadata": {},
   "outputs": [
    {
     "data": {
      "text/plain": [
       "(28, 28)"
      ]
     },
     "execution_count": 73,
     "metadata": {},
     "output_type": "execute_result"
    }
   ],
   "source": [
    "x_train[0].shape"
   ]
  },
  {
   "cell_type": "code",
   "execution_count": 74,
   "metadata": {},
   "outputs": [
    {
     "data": {
      "text/plain": [
       "(1.0, 0.0)"
      ]
     },
     "execution_count": 74,
     "metadata": {},
     "output_type": "execute_result"
    }
   ],
   "source": [
    "x_train.max(), x_train.min()"
   ]
  },
  {
   "cell_type": "code",
   "execution_count": 75,
   "metadata": {},
   "outputs": [
    {
     "data": {
      "text/plain": [
       "array([5, 0, 4, ..., 5, 6, 8], dtype=uint8)"
      ]
     },
     "execution_count": 75,
     "metadata": {},
     "output_type": "execute_result"
    }
   ],
   "source": [
    "y_train"
   ]
  },
  {
   "cell_type": "code",
   "execution_count": 76,
   "metadata": {},
   "outputs": [],
   "source": [
    "from keras import backend as K"
   ]
  },
  {
   "cell_type": "code",
   "execution_count": 77,
   "metadata": {},
   "outputs": [],
   "source": [
    "if K.image_data_format() == 'channels_first':\n",
    "    x_train = x_train.reshape(x_train.shape[0], 1, 28, 28)\n",
    "    x_test = x_test.reshape(x_test.shape[0], 1, 28, 28)\n",
    "    input_shape = (1, 28, 28)\n",
    "else:\n",
    "    x_train = x_train.reshape(x_train.shape[0], 28, 28, 1)\n",
    "    x_test = x_test.reshape(x_test.shape[0], 28, 28, 1)\n",
    "    input_shape = (28, 28, 1)"
   ]
  },
  {
   "cell_type": "code",
   "execution_count": 78,
   "metadata": {},
   "outputs": [],
   "source": [
    "y_test = tfk.utils.to_categorical(y_test)"
   ]
  },
  {
   "cell_type": "code",
   "execution_count": 79,
   "metadata": {},
   "outputs": [],
   "source": [
    "y_train = tfk.utils.to_categorical(y_train) "
   ]
  },
  {
   "cell_type": "code",
   "execution_count": 80,
   "metadata": {},
   "outputs": [
    {
     "data": {
      "text/plain": [
       "60000"
      ]
     },
     "execution_count": 80,
     "metadata": {},
     "output_type": "execute_result"
    }
   ],
   "source": [
    "y_train.shape[0]"
   ]
  },
  {
   "cell_type": "code",
   "execution_count": 81,
   "metadata": {},
   "outputs": [],
   "source": [
    "tb = tfk.callbacks.TensorBoard()"
   ]
  },
  {
   "cell_type": "code",
   "execution_count": 82,
   "metadata": {},
   "outputs": [],
   "source": [
    "model = keras.models.Sequential()\n",
    "model.add(Conv2D(32, kernel_size=(3, 3), activation='relu',input_shape=input_shape))\n",
    "model.add(keras.layers.MaxPool2D(2,2))\n",
    "\n",
    "model.add(Conv2D(64, kernel_size=(3, 3), activation='relu'))\n",
    "model.add(keras.layers.MaxPool2D(2, 2))\n",
    "\n",
    "model.add(keras.layers.Dropout(0.25))\n",
    "model.add(keras.layers.Flatten())\n",
    "model.add(keras.layers.Dense(128))\n",
    "model.add(keras.layers.Dropout(0.5))\n",
    "model.add(keras.layers.Dense(10, activation='softmax'))\n",
    "\n"
   ]
  },
  {
   "cell_type": "code",
   "execution_count": 83,
   "metadata": {},
   "outputs": [],
   "source": [
    "model.compile(optimizer='rmsprop', loss=tfk.losses.categorical_crossentropy, metrics=[\"acc\"])"
   ]
  },
  {
   "cell_type": "code",
   "execution_count": 84,
   "metadata": {},
   "outputs": [
    {
     "name": "stdout",
     "output_type": "stream",
     "text": [
      "WARNING:tensorflow:From C:\\Users\\Srinivas\\Anaconda3\\lib\\site-packages\\tensorflow\\python\\ops\\math_ops.py:3066: to_int32 (from tensorflow.python.ops.math_ops) is deprecated and will be removed in a future version.\n",
      "Instructions for updating:\n",
      "Use tf.cast instead.\n",
      "Train on 48000 samples, validate on 12000 samples\n",
      "Epoch 1/30\n",
      "48000/48000 [==============================] - 60s 1ms/step - loss: 0.5458 - acc: 0.8347 - val_loss: 0.1604 - val_acc: 0.9562\n",
      "Epoch 2/30\n",
      "48000/48000 [==============================] - 55s 1ms/step - loss: 0.1590 - acc: 0.9519 - val_loss: 0.0822 - val_acc: 0.9765\n",
      "Epoch 3/30\n",
      "48000/48000 [==============================] - 53s 1ms/step - loss: 0.1087 - acc: 0.9674 - val_loss: 0.0726 - val_acc: 0.9788\n",
      "Epoch 4/30\n",
      "48000/48000 [==============================] - 54s 1ms/step - loss: 0.0847 - acc: 0.9751 - val_loss: 0.0609 - val_acc: 0.9814\n",
      "Epoch 5/30\n",
      "48000/48000 [==============================] - 54s 1ms/step - loss: 0.0715 - acc: 0.9781 - val_loss: 0.0513 - val_acc: 0.9856\n",
      "Epoch 6/30\n",
      "48000/48000 [==============================] - 54s 1ms/step - loss: 0.0621 - acc: 0.9812 - val_loss: 0.0446 - val_acc: 0.9868\n",
      "Epoch 7/30\n",
      "48000/48000 [==============================] - 55s 1ms/step - loss: 0.0569 - acc: 0.9824 - val_loss: 0.0452 - val_acc: 0.9866\n",
      "Epoch 8/30\n",
      "48000/48000 [==============================] - 53s 1ms/step - loss: 0.0493 - acc: 0.9845 - val_loss: 0.0406 - val_acc: 0.9878\n",
      "Epoch 9/30\n",
      "48000/48000 [==============================] - 55s 1ms/step - loss: 0.0466 - acc: 0.9853 - val_loss: 0.0428 - val_acc: 0.9877\n",
      "Epoch 10/30\n",
      "48000/48000 [==============================] - 54s 1ms/step - loss: 0.0426 - acc: 0.9873 - val_loss: 0.0352 - val_acc: 0.9894\n",
      "Epoch 11/30\n",
      "48000/48000 [==============================] - 55s 1ms/step - loss: 0.0394 - acc: 0.9876 - val_loss: 0.0354 - val_acc: 0.9890\n",
      "Epoch 12/30\n",
      "48000/48000 [==============================] - 53s 1ms/step - loss: 0.0386 - acc: 0.9875 - val_loss: 0.0356 - val_acc: 0.9903\n",
      "Epoch 13/30\n",
      "48000/48000 [==============================] - 53s 1ms/step - loss: 0.0348 - acc: 0.9886 - val_loss: 0.0344 - val_acc: 0.9902\n",
      "Epoch 14/30\n",
      "48000/48000 [==============================] - 56s 1ms/step - loss: 0.0345 - acc: 0.9892 - val_loss: 0.0326 - val_acc: 0.9905\n",
      "Epoch 15/30\n",
      "48000/48000 [==============================] - 55s 1ms/step - loss: 0.0311 - acc: 0.9903 - val_loss: 0.0348 - val_acc: 0.9904\n",
      "Epoch 16/30\n",
      "48000/48000 [==============================] - 53s 1ms/step - loss: 0.0300 - acc: 0.9901 - val_loss: 0.0323 - val_acc: 0.9908\n",
      "Epoch 17/30\n",
      "48000/48000 [==============================] - 53s 1ms/step - loss: 0.0276 - acc: 0.9915 - val_loss: 0.0345 - val_acc: 0.9902\n",
      "Epoch 18/30\n",
      "48000/48000 [==============================] - 54s 1ms/step - loss: 0.0264 - acc: 0.9915 - val_loss: 0.0326 - val_acc: 0.9914\n",
      "Epoch 19/30\n",
      "48000/48000 [==============================] - 53s 1ms/step - loss: 0.0261 - acc: 0.9915 - val_loss: 0.0328 - val_acc: 0.9903\n",
      "Epoch 20/30\n",
      "48000/48000 [==============================] - 54s 1ms/step - loss: 0.0242 - acc: 0.9919 - val_loss: 0.0354 - val_acc: 0.9907\n",
      "Epoch 21/30\n",
      "48000/48000 [==============================] - 54s 1ms/step - loss: 0.0225 - acc: 0.9921 - val_loss: 0.0346 - val_acc: 0.9909\n",
      "Epoch 22/30\n",
      "48000/48000 [==============================] - 55s 1ms/step - loss: 0.0231 - acc: 0.9930 - val_loss: 0.0334 - val_acc: 0.9903\n",
      "Epoch 23/30\n",
      "48000/48000 [==============================] - 55s 1ms/step - loss: 0.0222 - acc: 0.9930 - val_loss: 0.0334 - val_acc: 0.9907\n",
      "Epoch 24/30\n",
      "48000/48000 [==============================] - 54s 1ms/step - loss: 0.0197 - acc: 0.9931 - val_loss: 0.0334 - val_acc: 0.9910\n",
      "Epoch 25/30\n",
      "48000/48000 [==============================] - 55s 1ms/step - loss: 0.0208 - acc: 0.9929 - val_loss: 0.0342 - val_acc: 0.9914\n",
      "Epoch 26/30\n",
      "48000/48000 [==============================] - 53s 1ms/step - loss: 0.0193 - acc: 0.9938 - val_loss: 0.0360 - val_acc: 0.9908\n",
      "Epoch 27/30\n",
      "48000/48000 [==============================] - 54s 1ms/step - loss: 0.0184 - acc: 0.9939 - val_loss: 0.0336 - val_acc: 0.9911\n",
      "Epoch 28/30\n",
      "48000/48000 [==============================] - 56s 1ms/step - loss: 0.0186 - acc: 0.9939 - val_loss: 0.0349 - val_acc: 0.9908\n",
      "Epoch 29/30\n",
      "48000/48000 [==============================] - 56s 1ms/step - loss: 0.0175 - acc: 0.9944 - val_loss: 0.0336 - val_acc: 0.9918\n",
      "Epoch 30/30\n",
      "48000/48000 [==============================] - 57s 1ms/step - loss: 0.0177 - acc: 0.9943 - val_loss: 0.0355 - val_acc: 0.9908\n"
     ]
    }
   ],
   "source": [
    "model_history = model.fit(x_train, y_train, batch_size=600, epochs=30, validation_split=0.2, callbacks=[tb])"
   ]
  },
  {
   "cell_type": "markdown",
   "metadata": {},
   "source": [
    "we can observe the accuracy for the image classification obtained nearly 99.5%"
   ]
  },
  {
   "cell_type": "code",
   "execution_count": 85,
   "metadata": {},
   "outputs": [
    {
     "name": "stdout",
     "output_type": "stream",
     "text": [
      "_________________________________________________________________\n",
      "Layer (type)                 Output Shape              Param #   \n",
      "=================================================================\n",
      "conv2d_15 (Conv2D)           (None, 26, 26, 32)        320       \n",
      "_________________________________________________________________\n",
      "max_pooling2d_15 (MaxPooling (None, 13, 13, 32)        0         \n",
      "_________________________________________________________________\n",
      "conv2d_16 (Conv2D)           (None, 11, 11, 64)        18496     \n",
      "_________________________________________________________________\n",
      "max_pooling2d_16 (MaxPooling (None, 5, 5, 64)          0         \n",
      "_________________________________________________________________\n",
      "dropout_15 (Dropout)         (None, 5, 5, 64)          0         \n",
      "_________________________________________________________________\n",
      "flatten_8 (Flatten)          (None, 1600)              0         \n",
      "_________________________________________________________________\n",
      "dense_15 (Dense)             (None, 128)               204928    \n",
      "_________________________________________________________________\n",
      "dropout_16 (Dropout)         (None, 128)               0         \n",
      "_________________________________________________________________\n",
      "dense_16 (Dense)             (None, 10)                1290      \n",
      "=================================================================\n",
      "Total params: 225,034\n",
      "Trainable params: 225,034\n",
      "Non-trainable params: 0\n",
      "_________________________________________________________________\n"
     ]
    }
   ],
   "source": [
    "model.summary()"
   ]
  },
  {
   "cell_type": "code",
   "execution_count": 86,
   "metadata": {},
   "outputs": [
    {
     "name": "stdout",
     "output_type": "stream",
     "text": [
      "10000/10000 [==============================] - 5s 481us/step\n"
     ]
    },
    {
     "data": {
      "text/plain": [
       "[0.024837364880368112, 0.9914000082015991]"
      ]
     },
     "execution_count": 86,
     "metadata": {},
     "output_type": "execute_result"
    }
   ],
   "source": [
    "model.evaluate(x_test, y_test, batch_size=600)"
   ]
  },
  {
   "cell_type": "code",
   "execution_count": 93,
   "metadata": {},
   "outputs": [],
   "source": [
    "y_test_model = model.predict(x_test, batch_size=600)"
   ]
  },
  {
   "cell_type": "code",
   "execution_count": 94,
   "metadata": {},
   "outputs": [
    {
     "data": {
      "text/plain": [
       "array([9.8599546e-13, 8.0356728e-11, 1.4410166e-07, 5.3385744e-08,\n",
       "       1.8080341e-13, 8.6762552e-13, 3.0145125e-17, 9.9999976e-01,\n",
       "       9.8002986e-12, 1.7637031e-10], dtype=float32)"
      ]
     },
     "execution_count": 94,
     "metadata": {},
     "output_type": "execute_result"
    }
   ],
   "source": [
    "y_test_model[0]"
   ]
  },
  {
   "cell_type": "code",
   "execution_count": 95,
   "metadata": {},
   "outputs": [
    {
     "data": {
      "text/plain": [
       "7"
      ]
     },
     "execution_count": 95,
     "metadata": {},
     "output_type": "execute_result"
    }
   ],
   "source": [
    "np.argmax(y_test_model[0])"
   ]
  },
  {
   "cell_type": "code",
   "execution_count": 96,
   "metadata": {},
   "outputs": [],
   "source": [
    "y_test_model = np.argmax(y_test_model, axis=1)"
   ]
  },
  {
   "cell_type": "code",
   "execution_count": 97,
   "metadata": {},
   "outputs": [],
   "source": [
    "y_test_original = np.argmax(y_test, axis=1)"
   ]
  },
  {
   "cell_type": "code",
   "execution_count": 98,
   "metadata": {},
   "outputs": [
    {
     "data": {
      "text/plain": [
       "(array([7, 2, 1, ..., 4, 5, 6], dtype=int64),\n",
       " array([7, 2, 1, ..., 4, 5, 6], dtype=int64))"
      ]
     },
     "execution_count": 98,
     "metadata": {},
     "output_type": "execute_result"
    }
   ],
   "source": [
    "y_test_model, y_test_original"
   ]
  },
  {
   "cell_type": "code",
   "execution_count": 99,
   "metadata": {},
   "outputs": [],
   "source": [
    "from sklearn.metrics import confusion_matrix"
   ]
  },
  {
   "cell_type": "code",
   "execution_count": 100,
   "metadata": {},
   "outputs": [],
   "source": [
    "cm = confusion_matrix(y_test_original, y_test_model)"
   ]
  },
  {
   "cell_type": "code",
   "execution_count": 101,
   "metadata": {},
   "outputs": [],
   "source": [
    "import seaborn as sns"
   ]
  },
  {
   "cell_type": "code",
   "execution_count": 104,
   "metadata": {},
   "outputs": [
    {
     "data": {
      "text/plain": [
       "<matplotlib.axes._subplots.AxesSubplot at 0x40bdff1cc0>"
      ]
     },
     "execution_count": 104,
     "metadata": {},
     "output_type": "execute_result"
    },
    {
     "data": {
      "image/png": "[encoded data removed]",
      "text/plain": [
       "<Figure size 432x288 with 2 Axes>"
      ]
     },
     "metadata": {
      "needs_background": "light"
     },
     "output_type": "display_data"
    }
   ],
   "source": [
    "sns.heatmap(cm,annot=True,square=True,cmap=\"Reds\")"
   ]
  },
  {
   "cell_type": "code",
   "execution_count": 105,
   "metadata": {},
   "outputs": [],
   "source": [
    "from sklearn.metrics import classification_report"
   ]
  },
  {
   "cell_type": "code",
   "execution_count": 112,
   "metadata": {},
   "outputs": [
    {
     "name": "stdout",
     "output_type": "stream",
     "text": [
      "              precision    recall  f1-score   support\n",
      "\n",
      "           0       0.99      1.00      0.99       980\n",
      "           1       0.99      1.00      0.99      1135\n",
      "           2       0.99      1.00      0.99      1032\n",
      "           3       0.99      0.99      0.99      1010\n",
      "           4       0.99      0.99      0.99       982\n",
      "           5       0.98      0.99      0.99       892\n",
      "           6       0.99      0.99      0.99       958\n",
      "           7       0.99      0.99      0.99      1028\n",
      "           8       0.99      0.99      0.99       974\n",
      "           9       1.00      0.98      0.99      1009\n",
      "\n",
      "   micro avg       0.99      0.99      0.99     10000\n",
      "   macro avg       0.99      0.99      0.99     10000\n",
      "weighted avg       0.99      0.99      0.99     10000\n",
      "\n"
     ]
    }
   ],
   "source": [
    "print(classification_report(y_test_original, y_test_model))"
   ]
  },
  {
   "cell_type": "code",
   "execution_count": 107,
   "metadata": {},
   "outputs": [
    {
     "data": {
      "text/plain": [
       "dict_keys(['val_loss', 'val_acc', 'loss', 'acc'])"
      ]
     },
     "execution_count": 107,
     "metadata": {},
     "output_type": "execute_result"
    }
   ],
   "source": [
    "model_history.history.keys()"
   ]
  },
  {
   "cell_type": "code",
   "execution_count": 108,
   "metadata": {},
   "outputs": [
    {
     "data": {
      "text/plain": [
       "{'batch_size': 600,\n",
       " 'epochs': 30,\n",
       " 'steps': None,\n",
       " 'samples': 48000,\n",
       " 'verbose': 1,\n",
       " 'do_validation': True,\n",
       " 'metrics': ['loss', 'acc', 'val_loss', 'val_acc']}"
      ]
     },
     "execution_count": 108,
     "metadata": {},
     "output_type": "execute_result"
    }
   ],
   "source": [
    "model_history.params"
   ]
  },
  {
   "cell_type": "code",
   "execution_count": 109,
   "metadata": {},
   "outputs": [
    {
     "data": {
      "text/plain": [
       "<matplotlib.legend.Legend at 0x40be229630>"
      ]
     },
     "execution_count": 109,
     "metadata": {},
     "output_type": "execute_result"
    },
    {
     "data": {
      "image/png": "[encoded data removed]",
      "text/plain": [
       "<Figure size 432x288 with 1 Axes>"
      ]
     },
     "metadata": {
      "needs_background": "light"
     },
     "output_type": "display_data"
    }
   ],
   "source": [
    "plt.plot(model_history.history[\"val_acc\"], label=\"Validation Acc\")\n",
    "plt.plot(model_history.history[\"acc\"], label=\"Training Accuracy\")\n",
    "plt.legend()"
   ]
  },
  {
   "cell_type": "code",
   "execution_count": 110,
   "metadata": {},
   "outputs": [
    {
     "data": {
      "text/plain": [
       "<matplotlib.legend.Legend at 0x40bd3b0da0>"
      ]
     },
     "execution_count": 110,
     "metadata": {},
     "output_type": "execute_result"
    },
    {
     "data": {
      "image/png": "[encoded data removed]",
      "text/plain": [
       "<Figure size 432x288 with 1 Axes>"
      ]
     },
     "metadata": {
      "needs_background": "light"
     },
     "output_type": "display_data"
    }
   ],
   "source": [
    "plt.plot(model_history.history.get(\"loss\") ,label=\"Losses\")\n",
    "plt.plot(model_history.history.get(\"val_loss\"), label=\"Validation Loss\")\n",
    "plt.legend()"
   ]
  },
  {
   "cell_type": "code",
   "execution_count": null,
   "metadata": {},
   "outputs": [],
   "source": []
  }
 ],
 "metadata": {
  "kernelspec": {
   "display_name": "Python 3",
   "language": "python",
   "name": "python3"
  },
  "language_info": {
   "codemirror_mode": {
    "name": "ipython",
    "version": 3
   },
   "file_extension": ".py",
   "mimetype": "text/x-python",
   "name": "python",
   "nbconvert_exporter": "python",
   "pygments_lexer": "ipython3",
   "version": "3.7.3"
  }
 },
 "nbformat": 4,
 "nbformat_minor": 2
}
